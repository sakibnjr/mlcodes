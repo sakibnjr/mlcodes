{
 "cells": [
  {
   "cell_type": "markdown",
   "id": "4aa1dcf1",
   "metadata": {},
   "source": [
    "# Lab module 01\n",
    "\n",
    "**learning outcome**\n",
    "1. Basic python\n",
    "2. problem solving"
   ]
  },
  {
   "cell_type": "raw",
   "id": "871f96e9",
   "metadata": {},
   "source": [
    "#Variables in python\n",
    "\n",
    "num1\n",
    "NUM1\n",
    "var_num\n",
    "_VarNum\n",
    "VarNum1"
   ]
  },
  {
   "cell_type": "code",
   "execution_count": 2,
   "id": "e03d1f09",
   "metadata": {},
   "outputs": [
    {
     "name": "stdout",
     "output_type": "stream",
     "text": [
      "<class 'int'>\n",
      "<class 'float'>\n",
      "<class 'str'>\n"
     ]
    }
   ],
   "source": [
    "a = 10\n",
    "b = 4.8\n",
    "c = \"AI Lab\"\n",
    "\n",
    "print(type(a))\n",
    "print(type(b))\n",
    "print(type(c))"
   ]
  },
  {
   "cell_type": "code",
   "execution_count": 3,
   "id": "381907b8",
   "metadata": {},
   "outputs": [
    {
     "name": "stdout",
     "output_type": "stream",
     "text": [
      "10\n"
     ]
    }
   ],
   "source": [
    "a = input()\n",
    "a = float(a)"
   ]
  },
  {
   "cell_type": "code",
   "execution_count": 4,
   "id": "4d983176",
   "metadata": {},
   "outputs": [
    {
     "name": "stdout",
     "output_type": "stream",
     "text": [
      "10.0\n",
      "<class 'float'>\n"
     ]
    }
   ],
   "source": [
    "print(a)\n",
    "print(type(a))"
   ]
  },
  {
   "cell_type": "code",
   "execution_count": 5,
   "id": "37b207e1",
   "metadata": {},
   "outputs": [
    {
     "name": "stdout",
     "output_type": "stream",
     "text": [
      "25\n"
     ]
    }
   ],
   "source": [
    "x = 10\n",
    "y = 15\n",
    "\n",
    "print(x + y)"
   ]
  },
  {
   "cell_type": "code",
   "execution_count": 7,
   "id": "9a84552e",
   "metadata": {},
   "outputs": [
    {
     "name": "stdout",
     "output_type": "stream",
     "text": [
      "DML is Awesome\n"
     ]
    }
   ],
   "source": [
    "str1 = \"DML is \"\n",
    "str2 = \"Awesome\"\n",
    "\n",
    "print(str1+str2)"
   ]
  },
  {
   "cell_type": "code",
   "execution_count": 10,
   "id": "001d81d0",
   "metadata": {},
   "outputs": [
    {
     "name": "stdout",
     "output_type": "stream",
     "text": [
      "10\n",
      "15\n"
     ]
    }
   ],
   "source": [
    "x = input()\n",
    "y = input()\n",
    "\n",
    "z = x+y"
   ]
  },
  {
   "cell_type": "code",
   "execution_count": 11,
   "id": "c393e359",
   "metadata": {},
   "outputs": [
    {
     "name": "stdout",
     "output_type": "stream",
     "text": [
      "25\n"
     ]
    }
   ],
   "source": [
    "print(z)"
   ]
  },
  {
   "cell_type": "code",
   "execution_count": 12,
   "id": "08f6a382",
   "metadata": {},
   "outputs": [
    {
     "data": {
      "text/plain": [
       "'m'"
      ]
     },
     "execution_count": 12,
     "metadata": {},
     "output_type": "execute_result"
    }
   ],
   "source": [
    "str = \"data mining and machine learning\"\n",
    "str[5]"
   ]
  },
  {
   "cell_type": "code",
   "execution_count": 13,
   "id": "787742d2",
   "metadata": {},
   "outputs": [
    {
     "name": "stdout",
     "output_type": "stream",
     "text": [
      "['Hello', 'ML', 'enthusiast', 'people', 'this', 'is', 'our', 'first', 'class']\n"
     ]
    }
   ],
   "source": [
    "Str3 = \"Hello ML enthusiast people this is our first class\"\n",
    "\n",
    "print(Str3.split(\" \"))"
   ]
  },
  {
   "cell_type": "code",
   "execution_count": 14,
   "id": "bf4b7b5c",
   "metadata": {},
   "outputs": [
    {
     "data": {
      "text/plain": [
       "'is'"
      ]
     },
     "execution_count": 14,
     "metadata": {},
     "output_type": "execute_result"
    }
   ],
   "source": [
    "list3 = Str3.split(\" \")\n",
    "\n",
    "list3[5]"
   ]
  },
  {
   "cell_type": "code",
   "execution_count": 15,
   "id": "dc55026e",
   "metadata": {},
   "outputs": [
    {
     "name": "stdout",
     "output_type": "stream",
     "text": [
      "False\n"
     ]
    }
   ],
   "source": [
    "print(\"hut\" in Str3)"
   ]
  },
  {
   "cell_type": "code",
   "execution_count": 16,
   "id": "3319b727",
   "metadata": {},
   "outputs": [
    {
     "name": "stdout",
     "output_type": "stream",
     "text": [
      "ello ML en\n"
     ]
    }
   ],
   "source": [
    "Str3 = \"Hello ML enthusiast people this is our first class\"\n",
    "print(Str3[1:11])"
   ]
  },
  {
   "cell_type": "markdown",
   "id": "581b4500",
   "metadata": {},
   "source": [
    "**Task make a Grade system in python**"
   ]
  },
  {
   "cell_type": "code",
   "execution_count": 17,
   "id": "74892cbc",
   "metadata": {},
   "outputs": [
    {
     "name": "stdout",
     "output_type": "stream",
     "text": [
      "Some\n",
      "Functionality\n",
      "may\n",
      "be\n",
      "unavailable\n"
     ]
    }
   ],
   "source": [
    "i = 0\n",
    "\n",
    "str1 = \"Some Functionality may be unavailable\"\n",
    "\n",
    "list1 = str1.split(\" \")\n",
    "\n",
    "for i in list1:\n",
    "  print(i)"
   ]
  },
  {
   "cell_type": "code",
   "execution_count": 18,
   "id": "9e3c5245",
   "metadata": {},
   "outputs": [],
   "source": [
    "list1.append(\"Offline\")"
   ]
  },
  {
   "cell_type": "code",
   "execution_count": 19,
   "id": "e2d6c806",
   "metadata": {},
   "outputs": [
    {
     "data": {
      "text/plain": [
       "['Some', 'Functionality', 'may', 'be', 'unavailable', 'Offline']"
      ]
     },
     "execution_count": 19,
     "metadata": {},
     "output_type": "execute_result"
    }
   ],
   "source": [
    "list1"
   ]
  },
  {
   "cell_type": "code",
   "execution_count": null,
   "id": "8eff336d",
   "metadata": {},
   "outputs": [],
   "source": []
  }
 ],
 "metadata": {
  "kernelspec": {
   "display_name": "Python 3 (ipykernel)",
   "language": "python",
   "name": "python3"
  },
  "language_info": {
   "codemirror_mode": {
    "name": "ipython",
    "version": 3
   },
   "file_extension": ".py",
   "mimetype": "text/x-python",
   "name": "python",
   "nbconvert_exporter": "python",
   "pygments_lexer": "ipython3",
   "version": "3.9.12"
  }
 },
 "nbformat": 4,
 "nbformat_minor": 5
}
